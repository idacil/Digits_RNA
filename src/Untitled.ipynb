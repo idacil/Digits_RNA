{
 "cells": [
  {
   "cell_type": "code",
   "execution_count": 1,
   "id": "d68e7c53",
   "metadata": {},
   "outputs": [
    {
     "name": "stdout",
     "output_type": "stream",
     "text": [
      "Epoch 0: 8706 / 10000, took 2.63 seconds\n",
      "Epoch 1: 9077 / 10000, took 2.56 seconds\n",
      "Epoch 2: 9174 / 10000, took 2.62 seconds\n",
      "Epoch 3: 9211 / 10000, took 2.63 seconds\n",
      "Epoch 4: 9289 / 10000, took 2.65 seconds\n",
      "Epoch 5: 9308 / 10000, took 2.84 seconds\n",
      "Epoch 6: 9335 / 10000, took 2.71 seconds\n",
      "Epoch 7: 9342 / 10000, took 2.73 seconds\n",
      "Epoch 8: 9366 / 10000, took 2.60 seconds\n",
      "Epoch 9: 9379 / 10000, took 2.57 seconds\n",
      "Epoch 10: 9401 / 10000, took 2.59 seconds\n",
      "Epoch 11: 9404 / 10000, took 2.72 seconds\n",
      "Epoch 12: 9425 / 10000, took 2.55 seconds\n",
      "Epoch 13: 9414 / 10000, took 2.58 seconds\n",
      "Epoch 14: 9434 / 10000, took 2.58 seconds\n",
      "Epoch 15: 9424 / 10000, took 2.95 seconds\n",
      "Epoch 16: 9451 / 10000, took 2.68 seconds\n",
      "Epoch 17: 9439 / 10000, took 2.59 seconds\n",
      "Epoch 18: 9433 / 10000, took 2.64 seconds\n",
      "Epoch 19: 9443 / 10000, took 2.60 seconds\n",
      "Epoch 20: 9442 / 10000, took 2.62 seconds\n",
      "Epoch 21: 9453 / 10000, took 2.78 seconds\n",
      "Epoch 22: 9473 / 10000, took 2.69 seconds\n",
      "Epoch 23: 9454 / 10000, took 2.73 seconds\n",
      "Epoch 24: 9454 / 10000, took 2.68 seconds\n",
      "Epoch 25: 9474 / 10000, took 2.57 seconds\n",
      "Epoch 26: 9474 / 10000, took 2.59 seconds\n",
      "Epoch 27: 9462 / 10000, took 2.59 seconds\n",
      "Epoch 28: 9463 / 10000, took 2.70 seconds\n",
      "Epoch 29: 9476 / 10000, took 2.64 seconds\n"
     ]
    }
   ],
   "source": [
    "# Standard library\n",
    "import random\n",
    "import pickle\n",
    "# Third-party libraries\n",
    "import numpy as np\n",
    "import mnist_loader\n",
    "import network\n",
    "\n",
    "training_data, validation_data, test_data = mnist_loader.load_data_wrapper()\n",
    "net = network.Network([784, 30, 10])\n",
    "net.SGD(training_data, 30, 20, 2.5, test_data=test_data)\n",
    "exit()"
   ]
  },
  {
   "cell_type": "code",
   "execution_count": null,
   "id": "d81355b1",
   "metadata": {},
   "outputs": [],
   "source": []
  }
 ],
 "metadata": {
  "kernelspec": {
   "display_name": "Python 3 (ipykernel)",
   "language": "python",
   "name": "python3"
  },
  "language_info": {
   "codemirror_mode": {
    "name": "ipython",
    "version": 3
   },
   "file_extension": ".py",
   "mimetype": "text/x-python",
   "name": "python",
   "nbconvert_exporter": "python",
   "pygments_lexer": "ipython3",
   "version": "3.9.7"
  }
 },
 "nbformat": 4,
 "nbformat_minor": 5
}
