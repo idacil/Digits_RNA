{
 "cells": [
  {
   "cell_type": "code",
   "execution_count": 2,
   "id": "d68e7c53",
   "metadata": {},
   "outputs": [],
   "source": [
    "# Standard library\n",
    "import random\n",
    "import pickle\n",
    "# Third-party libraries\n",
    "import numpy as np\n",
    "import mnist_loader\n"
   ]
  },
  {
   "cell_type": "code",
   "execution_count": 2,
   "id": "d81355b1",
   "metadata": {},
   "outputs": [
    {
     "name": "stdout",
     "output_type": "stream",
     "text": [
      "Epoch 0: 6911 / 10000, took 2.67 seconds\n",
      "Epoch 1: 8213 / 10000, took 2.62 seconds\n",
      "Epoch 2: 8319 / 10000, took 2.62 seconds\n",
      "Epoch 3: 8359 / 10000, took 2.63 seconds\n",
      "Epoch 4: 8405 / 10000, took 2.59 seconds\n"
     ]
    }
   ],
   "source": [
    "import network\n",
    "\n",
    "training_data, validation_data, test_data = mnist_loader.load_data_wrapper()\n",
    "net = network.Network([784, 30, 10])\n",
    "net.SGD(training_data, 5, 20, 2.5, test_data=test_data)\n",
    "exit()"
   ]
  },
  {
   "cell_type": "code",
   "execution_count": 3,
   "id": "38b5583c",
   "metadata": {},
   "outputs": [
    {
     "name": "stdout",
     "output_type": "stream",
     "text": [
      "Epoch 0: 7490 / 10000, took 2.84 seconds\n",
      "Epoch 1: 7977 / 10000, took 2.86 seconds\n",
      "Epoch 2: 8127 / 10000, took 2.82 seconds\n",
      "Epoch 3: 8165 / 10000, took 2.95 seconds\n",
      "Epoch 4: 9053 / 10000, took 2.88 seconds\n"
     ]
    }
   ],
   "source": [
    "import networknew\n",
    "\n",
    "training_data, validation_data, test_data = mnist_loader.load_data_wrapper()\n",
    "net = networknew.Network([784, 30, 10])\n",
    "net.RMSprop(training_data, 5, 20, 2.5, test_data=test_data)\n",
    "exit()"
   ]
  },
  {
   "cell_type": "code",
   "execution_count": 3,
   "id": "1b968145",
   "metadata": {},
   "outputs": [
    {
     "name": "stdout",
     "output_type": "stream",
     "text": [
      "Epoch 0: 8179 / 10000, took 2.96 seconds\n",
      "Epoch 1: 8755 / 10000, took 2.93 seconds\n",
      "Epoch 2: 8930 / 10000, took 3.00 seconds\n",
      "Epoch 3: 9044 / 10000, took 2.97 seconds\n",
      "Epoch 4: 9145 / 10000, took 2.96 seconds\n"
     ]
    }
   ],
   "source": [
    "import networknew2\n",
    "\n",
    "training_data, validation_data, test_data = mnist_loader.load_data_wrapper()\n",
    "net = networknew2.Network([784, 30, 10])\n",
    "net.Adam(training_data, 5, 20, 2.5, test_data=test_data)\n",
    "exit()"
   ]
  },
  {
   "cell_type": "code",
   "execution_count": null,
   "id": "0a51aaac",
   "metadata": {},
   "outputs": [],
   "source": []
  },
  {
   "cell_type": "code",
   "execution_count": null,
   "id": "f854b823",
   "metadata": {},
   "outputs": [],
   "source": []
  }
 ],
 "metadata": {
  "kernelspec": {
   "display_name": "Python 3 (ipykernel)",
   "language": "python",
   "name": "python3"
  },
  "language_info": {
   "codemirror_mode": {
    "name": "ipython",
    "version": 3
   },
   "file_extension": ".py",
   "mimetype": "text/x-python",
   "name": "python",
   "nbconvert_exporter": "python",
   "pygments_lexer": "ipython3",
   "version": "3.9.7"
  }
 },
 "nbformat": 4,
 "nbformat_minor": 5
}
