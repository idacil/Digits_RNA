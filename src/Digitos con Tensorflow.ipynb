{
 "cells": [
  {
   "cell_type": "code",
   "execution_count": 1,
   "id": "d7f01976",
   "metadata": {},
   "outputs": [
    {
     "name": "stderr",
     "output_type": "stream",
     "text": [
      "C:\\g\\lib\\site-packages\\scipy\\__init__.py:146: UserWarning: A NumPy version >=1.16.5 and <1.23.0 is required for this version of SciPy (detected version 1.24.3\n",
      "  warnings.warn(f\"A NumPy version >={np_minversion} and <{np_maxversion}\"\n"
     ]
    }
   ],
   "source": [
    "import tensorflow as tf\n",
    "import numpy as np\n",
    "from tensorflow import keras\n",
    "from tensorflow.keras.datasets import mnist\n",
    "from tensorflow.keras.models import Sequential\n",
    "from tensorflow.keras.layers import Dense, Dropout, Activation\n",
    "from tensorflow.keras.optimizers import RMSprop, SGD, Adam\n",
    "from tensorflow.keras import regularizers"
   ]
  },
  {
   "cell_type": "code",
   "execution_count": 2,
   "id": "65d0f4d6",
   "metadata": {},
   "outputs": [],
   "source": [
    "#Aquí coloco algunos parámetros importantes\n",
    "learning_rate = 0.001\n",
    "epochs = 8\n",
    "batch_size = 120"
   ]
  },
  {
   "cell_type": "code",
   "execution_count": 3,
   "id": "70c195aa",
   "metadata": {},
   "outputs": [
    {
     "name": "stdout",
     "output_type": "stream",
     "text": [
      "Downloading data from https://storage.googleapis.com/tensorflow/tf-keras-datasets/mnist.npz\n",
      "11490434/11490434 [==============================] - 7s 1us/step\n"
     ]
    }
   ],
   "source": [
    "#Se descarga la base de datos con las imágenes de los dígitos\n",
    "dataset = mnist.load_data()"
   ]
  },
  {
   "cell_type": "code",
   "execution_count": 20,
   "id": "808bac63",
   "metadata": {},
   "outputs": [
    {
     "name": "stdout",
     "output_type": "stream",
     "text": [
      "2\n",
      "(60000, 28, 28) (60000,)\n",
      "(10000, 28, 28) (10000,)\n"
     ]
    }
   ],
   "source": [
    "#La base de datos se convierte en una lista\n",
    "dat = dataset\n",
    "\n",
    "#Imprimimos el tamaño de la lista dat\n",
    "print(len(dat))\n",
    "\n",
    "#La 1ra lista de la primera lista en al lista dat tiene 60k imágenes de 28x28 pixeles \"x\" (train)\n",
    "#La 2da lista de la primera lista en la lista dat tiene respuestas (dígitos) \"y\" \n",
    "print(dat[0][0].shape, dat[0][1].shape)\n",
    "\n",
    "#La 1ra lista de la segunda lista en al lista dat tiene 10k imágenes de 28x28 pixeles \"x\" (test)\n",
    "#La 2da lista de la segunda lista en la lista dat tiene respuestas (dígitos) \"y\"\n",
    "print(dat[1][0].shape, dat[1][1].shape)\n",
    "\n",
    "#Se hacen entontonces esas respectivas listas con nuevos nombres\n",
    "(x_train, y_train), (x_test, y_test) = dataset"
   ]
  },
  {
   "cell_type": "code",
   "execution_count": 22,
   "id": "7f7a371e",
   "metadata": {},
   "outputs": [
    {
     "name": "stdout",
     "output_type": "stream",
     "text": [
      "8\n"
     ]
    },
    {
     "data": {
      "image/png": "[encoded data removed]",
      "text/plain": [
       "<Figure size 432x288 with 1 Axes>"
      ]
     },
     "metadata": {
      "needs_background": "light"
     },
     "output_type": "display_data"
    }
   ],
   "source": [
    "import matplotlib.pyplot as plt\n",
    "\n",
    "#Aquí se usa el comando plt.imshow() para mostrar la imagen 70000\n",
    "plt.imshow(dat[0][0][7000])\n",
    "print(y_train[7000])"
   ]
  },
  {
   "cell_type": "code",
   "execution_count": 23,
   "id": "5a5dc307",
   "metadata": {},
   "outputs": [],
   "source": [
    "#se transforma cada una de las listas en una \"imagen aplanada\", en un vector\n",
    "#se usa el comando \"nombre\".reshape(\"num de imagenes\", \"tamaño del vector\")\n",
    "x_trainv = x_train.reshape(60000, 784)\n",
    "x_testv = x_test.reshape(10000, 784)\n",
    "\n",
    "#Aquí se convierten a números de punto flotante 32 dígitos \n",
    "x_trainv = x_trainv.astype('float32')\n",
    "x_testv = x_testv.astype('float32')\n",
    "\n",
    "#ahora es posible normarlizarlos para obtener solo números del 0 al 1\n",
    "x_trainv /= 255  \n",
    "x_testv /= 255"
   ]
  },
  {
   "cell_type": "code",
   "execution_count": 24,
   "id": "b8149f57",
   "metadata": {},
   "outputs": [
    {
     "name": "stdout",
     "output_type": "stream",
     "text": [
      "5 [0. 0. 0. 0. 0. 1. 0. 0. 0. 0.]\n"
     ]
    }
   ],
   "source": [
    "#Se crean las 10 clases distintas posibles a obtener (0,1,2,3,4,5,6,7,8,9)\n",
    "num_classes=10\n",
    "\n",
    "#Se le asigna un \"vector binario\" a cada clase para los los datos y de train y test\n",
    "y_trainc = keras.utils.to_categorical(y_train, num_classes)\n",
    "y_testc = keras.utils.to_categorical(y_test, num_classes)\n",
    "\n",
    "print(y_train[0], y_trainc[0])"
   ]
  },
  {
   "cell_type": "code",
   "execution_count": 25,
   "id": "2a18ec78",
   "metadata": {},
   "outputs": [
    {
     "name": "stdout",
     "output_type": "stream",
     "text": [
      "Model: \"sequential\"\n",
      "_________________________________________________________________\n",
      " Layer (type)                Output Shape              Param #   \n",
      "=================================================================\n",
      " dense (Dense)               (None, 30)                23550     \n",
      "                                                                 \n",
      " dense_1 (Dense)             (None, 10)                310       \n",
      "                                                                 \n",
      "=================================================================\n",
      "Total params: 23860 (93.20 KB)\n",
      "Trainable params: 23860 (93.20 KB)\n",
      "Non-trainable params: 0 (0.00 Byte)\n",
      "_________________________________________________________________\n"
     ]
    }
   ],
   "source": [
    "#AQUÍ SE IMPLEMENTA LA RED NEURONAL, EL MODELO\n",
    "\n",
    "#El modelo que se usará será secuencial, en capas apiladas una tras otra\n",
    "model = Sequential()\n",
    "\n",
    "#Definimos la primera capa Densa con 512 neuronas, función de activación sigmoide y 784 inputs (de las neronas de entrada)\n",
    "model.add(Dense(30, activation='sigmoid', input_shape=(784,)))\n",
    "\n",
    "#Definimos la segunda capa Densa con 10 clases solamente y función de activación sigmoide\n",
    "model.add(Dense(num_classes, activation='sigmoid'))\n",
    "\n",
    "#Imprimimos un resumen de la red que se está usando\n",
    "model.summary()"
   ]
  },
  {
   "cell_type": "code",
   "execution_count": 28,
   "id": "e7a04241",
   "metadata": {},
   "outputs": [
    {
     "name": "stdout",
     "output_type": "stream",
     "text": [
      "Epoch 1/8\n",
      "500/500 [==============================] - 1s 1ms/step - loss: 0.8647 - accuracy: 0.8335 - val_loss: 0.4613 - val_accuracy: 0.8982\n",
      "Epoch 2/8\n",
      "500/500 [==============================] - 0s 937us/step - loss: 0.3863 - accuracy: 0.9044 - val_loss: 0.3214 - val_accuracy: 0.9162\n",
      "Epoch 3/8\n",
      "500/500 [==============================] - 0s 966us/step - loss: 0.2973 - accuracy: 0.9214 - val_loss: 0.2700 - val_accuracy: 0.9277\n",
      "Epoch 4/8\n",
      "500/500 [==============================] - 0s 928us/step - loss: 0.2543 - accuracy: 0.9304 - val_loss: 0.2395 - val_accuracy: 0.9333\n",
      "Epoch 5/8\n",
      "500/500 [==============================] - 0s 916us/step - loss: 0.2263 - accuracy: 0.9376 - val_loss: 0.2173 - val_accuracy: 0.9383\n",
      "Epoch 6/8\n",
      "500/500 [==============================] - 0s 931us/step - loss: 0.2053 - accuracy: 0.9431 - val_loss: 0.2022 - val_accuracy: 0.9421\n",
      "Epoch 7/8\n",
      "500/500 [==============================] - 0s 921us/step - loss: 0.1894 - accuracy: 0.9476 - val_loss: 0.1894 - val_accuracy: 0.9461\n",
      "Epoch 8/8\n",
      "500/500 [==============================] - 0s 919us/step - loss: 0.1758 - accuracy: 0.9508 - val_loss: 0.1805 - val_accuracy: 0.9479\n"
     ]
    }
   ],
   "source": [
    "#Model.compile se utiliza para configurar la etapa de compilación de un modelo de red neuronal antes de entrenarlo.\n",
    "#Se coloca la función de costo, categorical_crossentropy para más de 2 clases o binary_crossentropy para 2 clases\n",
    "#Se coloca el optimizador, SGD, Adam, RSProp con su tasa de aprendizaje ya definida\n",
    "#Las métricas son medidas que se utilizan para evaluar el rendimiento del modelo durante el entrenamiento y la evaluación. \n",
    "#Puedes especificar una lista de métricas que deseas calcular, como precisión ('accuracy') o pérdida ('loss'). \n",
    "\n",
    "model.compile(loss='categorical_crossentropy',optimizer = Adam(learning_rate=learning_rate),metrics=['accuracy'])\n",
    "\n",
    "#Aquí entrenamos ya a la red, insertamos el vector de entrenamiento de cada imagen con su resultado y de entrenamiento \n",
    "#Colocamos el tamaño del minibatch\n",
    "#El número de épocas\n",
    "#Si se mostrará el progreso o no\n",
    "#Por último los datos de prueba, las entradas y salida para verificar la eficiencia etc.\n",
    "history = model.fit(x_trainv, y_trainc,\n",
    "                    batch_size=batch_size,\n",
    "                    epochs=epochs,\n",
    "                    verbose=1,\n",
    "                    validation_data=(x_testv, y_testc)\n",
    "                    )"
   ]
  },
  {
   "cell_type": "code",
   "execution_count": 29,
   "id": "04fc5672",
   "metadata": {},
   "outputs": [
    {
     "name": "stdout",
     "output_type": "stream",
     "text": [
      "313/313 [==============================] - 0s 609us/step - loss: 0.1805 - accuracy: 0.9479\n",
      "eficiencia: [0.18045905232429504, 0.9478999972343445]\n",
      "313/313 [==============================] - 0s 590us/step\n",
      "forma del la lista de predicción: (10000, 10)\n",
      "la predicción de la foto 1 es en probilidades: [0.28289902 0.644375   0.997186   0.6593114  0.00192324 0.320461\n",
      " 0.72896093 0.01629706 0.39734834 0.00538291]\n",
      "resultado correcto:\n",
      "[0. 0. 1. 0. 0. 0. 0. 0. 0. 0.]\n",
      "resultado real: 2\n"
     ]
    },
    {
     "data": {
      "image/png": "[encoded data removed]",
      "text/plain": [
       "<Figure size 432x288 with 1 Axes>"
      ]
     },
     "metadata": {
      "needs_background": "light"
     },
     "output_type": "display_data"
    }
   ],
   "source": [
    "#Se evalua la eficiencia del modelo\n",
    "score = model.evaluate(x_testv, y_testc, verbose=1) \n",
    "print(\"eficiencia:\", score)\n",
    "\n",
    "#Hacemos una predicción de la red entrenada usando los datos de prueba\n",
    "a = model.predict(x_testv) \n",
    "#a es una lista de listas la cual su primer lista es de 10000 elementos y la segunda lista tiene 10\n",
    "#es decir, las 10000 imagenes de prueba y su correspondiente predicción binaria\n",
    "print(\"forma del la lista de predicción:\", a.shape)\n",
    "\n",
    "\n",
    "print(\"la predicción de la foto 1 es en probilidades:\", a[1])\n",
    "print(\"resultado correcto:\")\n",
    "print(y_testc[1])\n",
    "\n",
    "#imprimimos la foto 1\n",
    "plt.imshow(x_test[1])\n",
    "#imprimimos su resultado real\n",
    "print(\"resultado real:\", y_test[1])"
   ]
  },
  {
   "cell_type": "code",
   "execution_count": null,
   "id": "e1b73e41",
   "metadata": {},
   "outputs": [],
   "source": []
  }
 ],
 "metadata": {
  "kernelspec": {
   "display_name": "Python 3 (ipykernel)",
   "language": "python",
   "name": "python3"
  },
  "language_info": {
   "codemirror_mode": {
    "name": "ipython",
    "version": 3
   },
   "file_extension": ".py",
   "mimetype": "text/x-python",
   "name": "python",
   "nbconvert_exporter": "python",
   "pygments_lexer": "ipython3",
   "version": "3.9.7"
  }
 },
 "nbformat": 4,
 "nbformat_minor": 5
}
